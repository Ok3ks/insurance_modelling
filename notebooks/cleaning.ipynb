{
 "cells": [
  {
   "cell_type": "markdown",
   "metadata": {},
   "source": [
    "## Data Ingestion"
   ]
  },
  {
   "cell_type": "markdown",
   "metadata": {},
   "source": [
    "## Data Profiling"
   ]
  },
  {
   "cell_type": "markdown",
   "metadata": {},
   "source": [
    "### Observations\n",
    "- \n",
    "\n",
    "### Impact\n",
    "- "
   ]
  },
  {
   "cell_type": "markdown",
   "metadata": {},
   "source": [
    "## Missing Data"
   ]
  },
  {
   "cell_type": "markdown",
   "metadata": {},
   "source": [
    "### Observations\n",
    "- \n",
    "\n",
    "### Impact\n",
    "- "
   ]
  },
  {
   "cell_type": "markdown",
   "metadata": {},
   "source": [
    "## Outliers"
   ]
  },
  {
   "cell_type": "markdown",
   "metadata": {},
   "source": [
    "### Observations\n",
    "- \n",
    "\n",
    "### Impact\n",
    "- "
   ]
  },
  {
   "cell_type": "markdown",
   "metadata": {},
   "source": [
    "## Data Pre-processing Pipeline"
   ]
  },
  {
   "cell_type": "code",
   "execution_count": null,
   "metadata": {},
   "outputs": [],
   "source": [
    "def cleaning_pipeline(data: pd.DataFrame, output_path:str):\n",
    "    \"\"\" Data Cleaning and processing pipeline\n",
    "    \n",
    "    Args:\n",
    "        data pd.DataFrame: Input dataset that needs to be pre-processed\n",
    "        output_path(str): location of where to save the parquet file \n",
    "        \"\"\"\n",
    "\n",
    "    data.write_parquet(output_path)"
   ]
  },
  {
   "cell_type": "code",
   "execution_count": null,
   "metadata": {},
   "outputs": [],
   "source": [
    "#adds path to notebook\n",
    "\n",
    "path2add = os.path.normpath(os.path.join(os.path.dirname(\"__file__\"), os.path.pardir, 'utils'))\n",
    "if (not (path2add in sys.path)) :\n",
    "    sys.path.append(path2add)\n"
   ]
  }
 ],
 "metadata": {
  "kernelspec": {
   "display_name": "Python 3",
   "language": "python",
   "name": "python3"
  },
  "language_info": {
   "name": "python",
   "version": "3.10.2"
  }
 },
 "nbformat": 4,
 "nbformat_minor": 2
}
